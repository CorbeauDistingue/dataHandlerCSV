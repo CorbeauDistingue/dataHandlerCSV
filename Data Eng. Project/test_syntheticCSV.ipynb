{
 "cells": [
  {
   "cell_type": "code",
   "execution_count": 1,
   "metadata": {},
   "outputs": [
    {
     "name": "stderr",
     "output_type": "stream",
     "text": [
      "[nltk_data] Downloading package stopwords to C:\\Users\\B. Nafi\n",
      "[nltk_data]     Girgin\\AppData\\Roaming\\nltk_data...\n",
      "[nltk_data]   Package stopwords is already up-to-date!\n",
      "[nltk_data] Downloading package punkt to C:\\Users\\B. Nafi\n",
      "[nltk_data]     Girgin\\AppData\\Roaming\\nltk_data...\n",
      "[nltk_data]   Package punkt is already up-to-date!\n",
      "[nltk_data] Downloading package wordnet to C:\\Users\\B. Nafi\n",
      "[nltk_data]     Girgin\\AppData\\Roaming\\nltk_data...\n",
      "[nltk_data]   Package wordnet is already up-to-date!\n",
      "[nltk_data] Downloading package stopwords to C:\\Users\\B. Nafi\n",
      "[nltk_data]     Girgin\\AppData\\Roaming\\nltk_data...\n",
      "[nltk_data]   Package stopwords is already up-to-date!\n",
      "[nltk_data] Downloading package wordnet to C:\\Users\\B. Nafi\n",
      "[nltk_data]     Girgin\\AppData\\Roaming\\nltk_data...\n",
      "[nltk_data]   Package wordnet is already up-to-date!\n",
      "[nltk_data] Downloading package punkt to C:\\Users\\B. Nafi\n",
      "[nltk_data]     Girgin\\AppData\\Roaming\\nltk_data...\n",
      "[nltk_data]   Package punkt is already up-to-date!\n"
     ]
    }
   ],
   "source": [
    "import program as p\n",
    "import pandas as pd \n",
    "from program.text_handler import HandleTexts as ht\n",
    "\n",
    "def generate_df():\n",
    "        df = pd.read_csv(\"synthetic_sample_data.csv\")\n",
    "        return df"
   ]
  },
  {
   "cell_type": "markdown",
   "metadata": {},
   "source": [
    "MISSING VALUE HANDLER"
   ]
  },
  {
   "cell_type": "code",
   "execution_count": null,
   "metadata": {},
   "outputs": [],
   "source": [
    "df = generate_df()\n",
    "\n",
    "print(f\"\"\"\n",
    "Original Database (genre = drama): \n",
    "-----------------------------------------------------------\n",
    "{df[50:140].loc[df[\"Genre\"] == \"Drama\"][[\"Genre\", \"Budget in USD\"]]}\n",
    "-----------------------------------------------------------\n",
    "        \"\"\")"
   ]
  },
  {
   "cell_type": "code",
   "execution_count": null,
   "metadata": {},
   "outputs": [],
   "source": [
    "df = p.hmv.fill_as_mean(df, \"Budget in USD\")\n",
    "\n",
    "print(f\"\"\"\n",
    "fill null as mean (genre = drama): \n",
    "-----------------------------------------------------------\n",
    "{df[50:140].loc[df[\"Genre\"] == \"Drama\"][[\"Genre\", \"Budget in USD\"]]}\n",
    "-----------------------------------------------------------\n",
    "        \"\"\")\n",
    "\n",
    "df = generate_df()\n",
    "df = p.hmv.fill_as_median(df, \"Budget in USD\")\n",
    "\n",
    "print(f\"\"\"\n",
    "fill null as median (genre = drama): \n",
    "-----------------------------------------------------------\n",
    "{df[50:140].loc[df[\"Genre\"] == \"Drama\"][[\"Genre\", \"Budget in USD\"]]}\n",
    "-----------------------------------------------------------\n",
    "        \"\"\")\n",
    "\n",
    "df = generate_df()\n",
    "df = p.hmv.fill_as_constant(df, \"Budget in USD\", 1234567)\n",
    "\n",
    "print(f\"\"\"\n",
    "fill null as constant (genre = drama): \n",
    "-----------------------------------------------------------\n",
    "{df[50:140].loc[df[\"Genre\"] == \"Drama\"][[\"Genre\", \"Budget in USD\"]]}\n",
    "-----------------------------------------------------------\n",
    "        \"\"\")\n",
    "\n",
    "df = generate_df()\n",
    "df = p.hmv.drop(df, \"Budget in USD\")\n",
    "\n",
    "print(f\"\"\"\n",
    "remove null (genre = drama): \n",
    "-----------------------------------------------------------\n",
    "{df[50:140].loc[df[\"Genre\"] == \"Drama\"][[\"Genre\", \"Budget in USD\"]]}\n",
    "-----------------------------------------------------------\n",
    "        \"\"\")\n"
   ]
  },
  {
   "cell_type": "markdown",
   "metadata": {},
   "source": [
    "OUTLIER HANDLER"
   ]
  },
  {
   "cell_type": "code",
   "execution_count": null,
   "metadata": {},
   "outputs": [],
   "source": [
    "df = generate_df().sort_values([\"Rating\"], ascending=False)\n",
    "\n",
    "print(f\"\"\"\n",
    "Original Database (decreasing) ): \n",
    "-----------------------------------------------------------\n",
    "{df[\"Rating\"]}\n",
    "-----------------------------------------------------------\n",
    "        \"\"\")"
   ]
  },
  {
   "cell_type": "code",
   "execution_count": null,
   "metadata": {},
   "outputs": [],
   "source": [
    "df = p.ho.remove_outliers(df, \"Rating\")\n",
    "\n",
    "print(f\"\"\"\n",
    "Outliers Removed ( decreasing) ): \n",
    "-----------------------------------------------------------\n",
    "{df[\"Rating\"]}\n",
    "-----------------------------------------------------------\n",
    "        \"\"\")"
   ]
  },
  {
   "cell_type": "markdown",
   "metadata": {},
   "source": [
    "SCALER HANDLER"
   ]
  },
  {
   "cell_type": "code",
   "execution_count": null,
   "metadata": {},
   "outputs": [],
   "source": [
    "df = generate_df().sort_values(['Budget in USD'], ascending=[False])\n",
    "\n",
    "print(f\"\"\"\n",
    "Original Database (Budget in USD - decreasing) : \n",
    "-----------------------------------------------------------\n",
    "{df.head(10)[\"Budget in USD\"]}\n",
    "-----------------------------------------------------------\n",
    "        \"\"\")"
   ]
  },
  {
   "cell_type": "code",
   "execution_count": null,
   "metadata": {},
   "outputs": [],
   "source": [
    "df = generate_df().sort_values(['Budget in USD'], ascending=[False])\n",
    "df = p.hs.max_scaled(df, \"Budget in USD\")\n",
    "\n",
    "print(f\"\"\"\n",
    "Original Database (Budget in USD - decreasing)  \n",
    "Normalized or Scaled accordingly to maximum absolute : \n",
    "-----------------------------------------------------------\n",
    "{df.head(10)[\"Budget in USD\"]}\n",
    "-----------------------------------------------------------\n",
    "        \"\"\")\n",
    "\n",
    "df = generate_df().sort_values(['Budget in USD'], ascending=[False])\n",
    "df = p.hs.min_max_scaled(df, \"Budget in USD\")\n",
    "\n",
    "print(f\"\"\"\n",
    "Original Database (Budget in USD - decreasing)  \n",
    "Normalized or Scaled accordingly to min-max frequency : \n",
    "-----------------------------------------------------------\n",
    "{df.head(10)[\"Budget in USD\"]}\n",
    "-----------------------------------------------------------\n",
    "        \"\"\")\n",
    "\n",
    "df = generate_df().sort_values(['Budget in USD'], ascending=[False])\n",
    "df = p.hmv.drop(df, \"Budget in USD\")\n",
    "df = p.hs.z_method_scaled(df, \"Budget in USD\")\n",
    "\n",
    "print(f\"\"\"\n",
    "Original Database (Budget in USD - decreasing)  \n",
    "Normalized or Scaled accordingly to Z-method : \n",
    "-----------------------------------------------------------\n",
    "{df[\"Budget in USD\"]}\n",
    "-----------------------------------------------------------\n",
    "        \"\"\")\n"
   ]
  },
  {
   "cell_type": "markdown",
   "metadata": {},
   "source": [
    "TEXT HANDLER"
   ]
  },
  {
   "cell_type": "code",
   "execution_count": null,
   "metadata": {},
   "outputs": [],
   "source": [
    "df = generate_df()\n",
    "\n",
    "print(f\"\"\"\n",
    "Original Database (summary) : \n",
    "-----------------------------------------------------------\n",
    "{df.head()[\"Summary\"]}\n",
    "-----------------------------------------------------------\n",
    "        \"\"\")"
   ]
  },
  {
   "cell_type": "code",
   "execution_count": null,
   "metadata": {},
   "outputs": [],
   "source": [
    "ht = ht()\n",
    "df = ht.clean_column(df, \"Summary\")\n",
    "\n",
    "print(f\"\"\"\n",
    "Tokenized Version of Database (summary) : \n",
    "-----------------------------------------------------------\n",
    "{df.head()[\"Summary\"]}\n",
    "-----------------------------------------------------------\n",
    "        \"\"\")"
   ]
  },
  {
   "cell_type": "markdown",
   "metadata": {},
   "source": [
    "ENCODER HANDLER"
   ]
  },
  {
   "cell_type": "code",
   "execution_count": 215,
   "metadata": {},
   "outputs": [
    {
     "name": "stdout",
     "output_type": "stream",
     "text": [
      "\n",
      "Original Database (first 50 rows) (Shooting Location) : \n",
      "-----------------------------------------------------------\n",
      "0        New York\n",
      "1           Paris\n",
      "2          Sydney\n",
      "3           Paris\n",
      "4          Sydney\n",
      "5     Los Angeles\n",
      "6         Toronto\n",
      "7     Los Angeles\n",
      "8        New York\n",
      "9           Tokyo\n",
      "10          Paris\n",
      "11         Sydney\n",
      "12        Toronto\n",
      "13        Toronto\n",
      "14         Sydney\n",
      "15    Los Angeles\n",
      "16         Sydney\n",
      "17          Paris\n",
      "18          Tokyo\n",
      "19          Paris\n",
      "20          Tokyo\n",
      "21          Tokyo\n",
      "22         London\n",
      "23       New York\n",
      "24          Paris\n",
      "Name: Shooting Location, dtype: object\n",
      "-----------------------------------------------------------\n",
      "        \n"
     ]
    }
   ],
   "source": [
    "df = generate_df()\n",
    "\n",
    "print(f\"\"\"\n",
    "Original Database (first 10 rows) (Shooting Location) : \n",
    "-----------------------------------------------------------\n",
    "{df.head(10)[\"Shooting Location\"]}\n",
    "-----------------------------------------------------------\n",
    "        \"\"\")"
   ]
  },
  {
   "cell_type": "code",
   "execution_count": 17,
   "metadata": {},
   "outputs": [
    {
     "name": "stdout",
     "output_type": "stream",
     "text": [
      "\n",
      "Original Database (first 10 rows) (Shooting Location) : \n",
      "-----------------------------------------------------------\n",
      "   Shooting Location_London  Shooting Location_Los Angeles  \\\n",
      "0                       0.0                            0.0   \n",
      "1                       0.0                            0.0   \n",
      "2                       0.0                            0.0   \n",
      "3                       0.0                            0.0   \n",
      "4                       0.0                            0.0   \n",
      "5                       0.0                            1.0   \n",
      "6                       0.0                            0.0   \n",
      "7                       0.0                            1.0   \n",
      "8                       0.0                            0.0   \n",
      "9                       0.0                            0.0   \n",
      "\n",
      "   Shooting Location_New York  Shooting Location_Paris  \\\n",
      "0                         1.0                      0.0   \n",
      "1                         0.0                      1.0   \n",
      "2                         0.0                      0.0   \n",
      "3                         0.0                      1.0   \n",
      "4                         0.0                      0.0   \n",
      "5                         0.0                      0.0   \n",
      "6                         0.0                      0.0   \n",
      "7                         0.0                      0.0   \n",
      "8                         1.0                      0.0   \n",
      "9                         0.0                      0.0   \n",
      "\n",
      "   Shooting Location_Sydney  Shooting Location_Tokyo  \\\n",
      "0                       0.0                      0.0   \n",
      "1                       0.0                      0.0   \n",
      "2                       1.0                      0.0   \n",
      "3                       0.0                      0.0   \n",
      "4                       1.0                      0.0   \n",
      "5                       0.0                      0.0   \n",
      "6                       0.0                      0.0   \n",
      "7                       0.0                      0.0   \n",
      "8                       0.0                      0.0   \n",
      "9                       0.0                      1.0   \n",
      "\n",
      "   Shooting Location_Toronto  \n",
      "0                        0.0  \n",
      "1                        0.0  \n",
      "2                        0.0  \n",
      "3                        0.0  \n",
      "4                        0.0  \n",
      "5                        0.0  \n",
      "6                        1.0  \n",
      "7                        0.0  \n",
      "8                        0.0  \n",
      "9                        0.0  \n",
      "-----------------------------------------------------------\n",
      "        \n"
     ]
    }
   ],
   "source": [
    "df = generate_df()\n",
    "encoder = p.he()\n",
    "df = encoder.one_hot_encode(df, \"Shooting Location\")\n",
    "print(f\"\"\"\n",
    "Original Database (first 10 rows) (Shooting Location) : \n",
    "-----------------------------------------------------------\n",
    "{df.head(10).filter(regex=\"Shooting Location\")}\n",
    "-----------------------------------------------------------\n",
    "        \"\"\")"
   ]
  },
  {
   "cell_type": "code",
   "execution_count": null,
   "metadata": {},
   "outputs": [],
   "source": []
  },
  {
   "cell_type": "markdown",
   "metadata": {},
   "source": [
    "DATE AND TIME HANDLER"
   ]
  },
  {
   "cell_type": "code",
   "execution_count": null,
   "metadata": {},
   "outputs": [],
   "source": [
    "df = generate_df()\n",
    "\n",
    "print(f\"\"\"\n",
    "Original Database (first 50 rows) : \n",
    "-----------------------------------------------------------\n",
    "{df.head()[\"Release Date\"]}\n",
    "-----------------------------------------------------------\n",
    "        \"\"\")"
   ]
  },
  {
   "cell_type": "code",
   "execution_count": null,
   "metadata": {},
   "outputs": [],
   "source": [
    "df = p.hdTime.convert_to_datetime(df, \"Release Date\")\n",
    "\n",
    "df = p.hdTime.extract_date_parts(df, \"Release Date\")\n",
    "\n",
    "print(f\"\"\"\n",
    "Original Database (first 50 rows) : \n",
    "-----------------------------------------------------------\n",
    "{df.head()[[\"Release Date\", \"Release Date_year\", \"Release Date_month\", \"Release Date_day\"]]}\n",
    "-----------------------------------------------------------\n",
    "        \"\"\")"
   ]
  }
 ],
 "metadata": {
  "kernelspec": {
   "display_name": "base",
   "language": "python",
   "name": "python3"
  },
  "language_info": {
   "codemirror_mode": {
    "name": "ipython",
    "version": 3
   },
   "file_extension": ".py",
   "mimetype": "text/x-python",
   "name": "python",
   "nbconvert_exporter": "python",
   "pygments_lexer": "ipython3",
   "version": "3.11.7"
  }
 },
 "nbformat": 4,
 "nbformat_minor": 2
}
